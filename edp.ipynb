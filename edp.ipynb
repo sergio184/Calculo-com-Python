{
 "cells": [
  {
   "cell_type": "markdown",
   "metadata": {},
   "source": [
    " # <center> Séries de Fourier </center>\n",
    " \n",
    " $$ \\frac{a_0}{2} + \\sum_{n=1}^{\\infty} \\left[ a_n \\cos\\left(\\frac{n \\pi x}{L}\\right) + b_n \\text{sen}\\left(\\frac{n \\pi x}{L}\\right) \\right] $$\n",
    " \n",
    " onde $$ a_n = \\frac{1}{L} \\int_{-L}^{L} f(x)\\cos\\left(\\frac{n \\pi x}{L}\\right)dx \\qquad b_n = \\frac{1}{L} \\int_{-L}^{L} f(x)\\text{ sen}\\left(\\frac{n \\pi x}{L}\\right)dx.$$  \n",
    " \n",
    "Ou então na forma complexa\n",
    "\n",
    "$$ \\sum_{- \\infty}^{\\infty} c_n \\exp\\left(\\frac{i n \\pi x}{L}\\right) \\qquad \\text{onde} \\qquad c_n = \\frac{1}{2L}\\int_{-L}^{L} f(x) \\exp\\left(\\frac{- i n \\pi x}{L}\\right) dx$$"
   ]
  },
  {
   "cell_type": "code",
   "execution_count": null,
   "metadata": {},
   "outputs": [],
   "source": [
    "import matplotlib.pyplot as plt\n",
    "from numpy import *\n",
    "#from ipywidgets import interact\n",
    "%matplotlib inline"
   ]
  },
  {
   "cell_type": "markdown",
   "metadata": {},
   "source": [
    "A série de Fourier da função $$ \\begin{cases}f(x) = |x| & -\\pi < x < \\pi \\\\ f(x+2\\pi) = f(x), & \\text{para todo} \\ x\\end{cases}$$\n",
    "\n",
    "é a seguinte\n",
    "\n",
    "$$\\frac{\\pi}{2} - \\frac{4}{\\pi} \\sum_{n=0}^{\\infty} \\frac{1}{(2n+1)^2} \\cos(2n+1)x$$\n",
    "\n",
    "Vamos definir uma função que dá a soma nos $n$ primeiros termos dessa série e fazer alguns gráficos."
   ]
  },
  {
   "cell_type": "code",
   "execution_count": null,
   "metadata": {},
   "outputs": [],
   "source": [
    "def soma_parcial_f(N = 1,L = 5,num_points = 200):\n",
    "    x = linspace(-4*pi,4*pi,num_points)\n",
    "    y = zeros(num_points)\n",
    "    for n in arange(1,N+1,2):\n",
    "        y = y + (1.0/(n**2) * cos(n*pi*x/L))\n",
    "    y = pi/2*ones(num_points)+ 4.0/pi *y\n",
    "    plt.plot(x,y)"
   ]
  },
  {
   "cell_type": "code",
   "execution_count": null,
   "metadata": {},
   "outputs": [],
   "source": [
    "soma_parcial_f(N=40, L=pi)"
   ]
  },
  {
   "cell_type": "code",
   "execution_count": null,
   "metadata": {},
   "outputs": [],
   "source": [
    "7%pi "
   ]
  },
  {
   "cell_type": "code",
   "execution_count": null,
   "metadata": {},
   "outputs": [],
   "source": [
    "num_points=200\n",
    "x = linspace(-3*pi,3*pi,num_points)\n",
    "plt.plot(x,x%(2*pi) - 2*pi)"
   ]
  },
  {
   "cell_type": "code",
   "execution_count": null,
   "metadata": {},
   "outputs": [],
   "source": [
    "L=pi\n",
    "N=6\n",
    "num_pts = 200\n",
    "x = linspace(-2*pi,2*pi,num_pts)\n",
    "y = zeros(num_pts)\n",
    "for n in range(1,N,2):\n",
    "    y = y + (1.0/(n**2) * cos(n*pi*x/L))\n",
    "y = pi/2*ones(num_pts) - 4.0/pi *y\n",
    "plt.plot(x,y)\n",
    "plt.plot(x,abs(x%(2*pi) - 2*pi*(floor( (x%(2*pi))/pi  )) )) \n",
    "plt.show()"
   ]
  },
  {
   "cell_type": "code",
   "execution_count": null,
   "metadata": {},
   "outputs": [],
   "source": [
    "def square_wave(N = 1,L = 5,num_points = 200):\n",
    "    x = linspace(-4*pi,4*pi,num_points)\n",
    "    y = zeros(num_points)\n",
    "    for n in arange(1,N+1,2):\n",
    "        y = y + (1.0/n * sin(n*pi*x/L))\n",
    "    y = y * 4.0/pi\n",
    "    plt.plot(x,y)"
   ]
  },
  {
   "cell_type": "code",
   "execution_count": null,
   "metadata": {},
   "outputs": [],
   "source": [
    "square_wave(N=525, L=5)"
   ]
  },
  {
   "cell_type": "markdown",
   "metadata": {
    "collapsed": true
   },
   "source": [
    "## Função <i>Sawtooth</i> (Dente de serra)\n",
    "\n",
    "Vamos definir a função <i>dente de serra</i>, esse nome é por causa do gráfico $$ \\begin{cases} ds(x) = x, & -1 < x < 1 \\\\ ds(x + 2) = ds(x), & \\text{para todo } x \\in \\mathbb{R} \\end{cases}.$$\n",
    "\n",
    "Observe que esta é uma função periódica de período $2$ que é igual à função identidade no intervalo $(-1,1)$.\n",
    "\n",
    "Uma maneira fácil de defini-la é usando a função MOD, que na linguagem Python é utilizada como <code>%</code>."
   ]
  },
  {
   "cell_type": "code",
   "execution_count": null,
   "metadata": {},
   "outputs": [],
   "source": [
    "def ds(x):\n",
    "    return (x+1)%2 - 1"
   ]
  },
  {
   "cell_type": "code",
   "execution_count": null,
   "metadata": {},
   "outputs": [],
   "source": [
    "x = linspace(-6,6,200)\n",
    "plt.plot(x,ds(x))\n",
    "plt.title('Dente de serra')\n",
    "plt.show()"
   ]
  },
  {
   "cell_type": "markdown",
   "metadata": {
    "collapsed": true
   },
   "source": [
    "A série de Fourier para a função dente de serra é dada por\n",
    "\n",
    "$$ -\\frac{2}{\\pi} \\sum_{n=1}^{\\infty} \\frac{(-1)^{n}}{n}\\text{sen}(n \\pi x) $$"
   ]
  },
  {
   "cell_type": "code",
   "execution_count": null,
   "metadata": {},
   "outputs": [],
   "source": [
    "L=1\n",
    "N=7\n",
    "num_pts = 200\n",
    "x = linspace(-3,3,num_pts)\n",
    "y = zeros(num_pts)\n",
    "for n in range(1,N):\n",
    "    y = y + ((-1.0)**n/n * sin(n*pi*x/L))\n",
    "y = -2.0/pi * y\n",
    "plt.plot(x,y)\n",
    "plt.plot(x,ds(x)) \n",
    "plt.show()"
   ]
  },
  {
   "cell_type": "markdown",
   "metadata": {},
   "source": [
    "Função $$f(x)= e^x, \\quad -1 < x < 1$$ e periódica de período 2."
   ]
  },
  {
   "cell_type": "code",
   "execution_count": null,
   "metadata": {},
   "outputs": [],
   "source": [
    "num_pts = 200\n",
    "x = linspace(-3,3,num_pts)\n",
    "plt.plot(x,exp(ds(x))) \n",
    "plt.show()"
   ]
  },
  {
   "cell_type": "markdown",
   "metadata": {},
   "source": [
    "$$ f(x) = \\begin{cases} \\ \\ \\ x, & \\ \\ \\ 0 < x < \\pi \\\\ - \\pi, & -\\pi < x < 0 \\\\ f(x + 2\\pi) = f(x), & \\forall \\ x \\in \\ \\mathbb{R} \\end{cases} $$\n",
    "\n",
    "cuja série de Fourier é dada por\n",
    "\n",
    "$$ - \\frac{\\pi}{4} + \\sum_{k=1}^{\\infty} \\left\\{ \\frac{1}{k^2 \\pi}\\left[(-1)^k -1 \\right]\\cos(kx) + \\frac{1}{k}\\left[ 1- 2(-1)^k\\right] \\text{sen}(kx) \\right\\} $$"
   ]
  },
  {
   "cell_type": "code",
   "execution_count": null,
   "metadata": {},
   "outputs": [],
   "source": [
    "def f(x):\n",
    "    return -pi*(1-sign(x))/2 + x*(1+sign(x))/2"
   ]
  },
  {
   "cell_type": "code",
   "execution_count": null,
   "metadata": {},
   "outputs": [],
   "source": [
    "num_pts = 200\n",
    "x = linspace(-pi,pi,num_pts)\n",
    "y = f(pi*ds(x/pi))\n",
    "plt.plot(x,y) \n",
    "plt.show()"
   ]
  },
  {
   "cell_type": "code",
   "execution_count": null,
   "metadata": {},
   "outputs": [],
   "source": [
    "L=pi\n",
    "N=10\n",
    "num_pts = 200\n",
    "x = linspace(-3*pi,3*pi,num_pts)\n",
    "y = zeros(num_pts)\n",
    "for k in range(1,N):\n",
    "    y = y + (((-1.0)**k - 1.0)/(pi*k**2) * cos(k*pi*x/L)) + ((1.0-2.0*(-1.0)**k )/k * sin(k*pi*x/L))\n",
    "y = -pi/4 + y\n",
    "plt.plot(x,y)   # grafico da aproximacao pela serie de Fourier\n",
    "z = f(pi*ds(x/pi))\n",
    "plt.plot(x,z)   # grafico da funcao f\n",
    "plt.show()      # mostra os dois graficos ao mesmo tempo"
   ]
  },
  {
   "cell_type": "code",
   "execution_count": null,
   "metadata": {},
   "outputs": [],
   "source": []
  }
 ],
 "metadata": {
  "kernelspec": {
   "display_name": "Python 3",
   "language": "python",
   "name": "python3"
  },
  "language_info": {
   "codemirror_mode": {
    "name": "ipython",
    "version": 3
   },
   "file_extension": ".py",
   "mimetype": "text/x-python",
   "name": "python",
   "nbconvert_exporter": "python",
   "pygments_lexer": "ipython3",
   "version": "3.7.3"
  }
 },
 "nbformat": 4,
 "nbformat_minor": 1
}
